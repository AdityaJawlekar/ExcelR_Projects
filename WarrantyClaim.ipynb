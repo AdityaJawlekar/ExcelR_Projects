{
 "cells": [
  {
   "cell_type": "markdown",
   "id": "672c20e6",
   "metadata": {},
   "source": [
    "# Importing Libraries"
   ]
  },
  {
   "cell_type": "code",
   "execution_count": 1,
   "id": "5bd6e4f9",
   "metadata": {
    "ExecuteTime": {
     "end_time": "2021-09-27T13:07:52.634535Z",
     "start_time": "2021-09-27T13:07:48.256372Z"
    }
   },
   "outputs": [],
   "source": [
    "import numpy as np\n",
    "import pandas as pd\n",
    "import matplotlib.pyplot as plt\n",
    "import statsmodels.api as sm\n",
    "import statsmodels.stats.tests.test_influence\n",
    "import seaborn as sns\n",
    "from sklearn import metrics\n",
    "from sklearn.svm import SVC\n",
    "from sklearn.naive_bayes import GaussianNB\n",
    "from sklearn.metrics import confusion_matrix\n",
    "from sklearn.metrics import classification_report\n",
    "from sklearn.linear_model import LogisticRegression\n",
    "from sklearn.preprocessing import StandardScaler\n",
    "from sklearn.model_selection import train_test_split\n",
    "from sklearn.tree import DecisionTreeClassifier\n",
    "from numpy.polynomial.polynomial import polyfit\n",
    "from statsmodels.stats.outliers_influence import variance_inflation_factor"
   ]
  },
  {
   "cell_type": "markdown",
   "id": "b50ab20e",
   "metadata": {},
   "source": [
    "# 1. Business Problem\n",
    "    To predict an item when sold, wht is the probability that customer would file fraudulent / genuine warranty and  to             understand important factors associared with them."
   ]
  },
  {
   "cell_type": "markdown",
   "id": "61368f5e",
   "metadata": {},
   "source": [
    "# 2. Data Collection and Description"
   ]
  },
  {
   "cell_type": "code",
   "execution_count": 2,
   "id": "23440402",
   "metadata": {
    "ExecuteTime": {
     "end_time": "2021-09-27T13:07:52.714366Z",
     "start_time": "2021-09-27T13:07:52.641127Z"
    }
   },
   "outputs": [
    {
     "data": {
      "text/html": [
       "<div>\n",
       "<style scoped>\n",
       "    .dataframe tbody tr th:only-of-type {\n",
       "        vertical-align: middle;\n",
       "    }\n",
       "\n",
       "    .dataframe tbody tr th {\n",
       "        vertical-align: top;\n",
       "    }\n",
       "\n",
       "    .dataframe thead th {\n",
       "        text-align: right;\n",
       "    }\n",
       "</style>\n",
       "<table border=\"1\" class=\"dataframe\">\n",
       "  <thead>\n",
       "    <tr style=\"text-align: right;\">\n",
       "      <th></th>\n",
       "      <th>Unnamed: 0</th>\n",
       "      <th>Region</th>\n",
       "      <th>State</th>\n",
       "      <th>Area</th>\n",
       "      <th>City</th>\n",
       "      <th>Consumer_profile</th>\n",
       "      <th>Product_category</th>\n",
       "      <th>Product_type</th>\n",
       "      <th>AC_1001_Issue</th>\n",
       "      <th>AC_1002_Issue</th>\n",
       "      <th>...</th>\n",
       "      <th>TV_2001_Issue</th>\n",
       "      <th>TV_2002_Issue</th>\n",
       "      <th>TV_2003_Issue</th>\n",
       "      <th>Claim_Value</th>\n",
       "      <th>Service_Centre</th>\n",
       "      <th>Product_Age</th>\n",
       "      <th>Purchased_from</th>\n",
       "      <th>Call_details</th>\n",
       "      <th>Purpose</th>\n",
       "      <th>Fraud</th>\n",
       "    </tr>\n",
       "  </thead>\n",
       "  <tbody>\n",
       "    <tr>\n",
       "      <th>0</th>\n",
       "      <td>0</td>\n",
       "      <td>South</td>\n",
       "      <td>Karnataka</td>\n",
       "      <td>Urban</td>\n",
       "      <td>Bangalore</td>\n",
       "      <td>Business</td>\n",
       "      <td>Entertainment</td>\n",
       "      <td>TV</td>\n",
       "      <td>0</td>\n",
       "      <td>0</td>\n",
       "      <td>...</td>\n",
       "      <td>1</td>\n",
       "      <td>2</td>\n",
       "      <td>0</td>\n",
       "      <td>15000.0</td>\n",
       "      <td>10</td>\n",
       "      <td>60</td>\n",
       "      <td>Manufacturer</td>\n",
       "      <td>0.5</td>\n",
       "      <td>Complaint</td>\n",
       "      <td>1</td>\n",
       "    </tr>\n",
       "    <tr>\n",
       "      <th>1</th>\n",
       "      <td>1</td>\n",
       "      <td>South</td>\n",
       "      <td>Karnataka</td>\n",
       "      <td>Rural</td>\n",
       "      <td>Bangalore</td>\n",
       "      <td>Business</td>\n",
       "      <td>Household</td>\n",
       "      <td>AC</td>\n",
       "      <td>1</td>\n",
       "      <td>1</td>\n",
       "      <td>...</td>\n",
       "      <td>0</td>\n",
       "      <td>0</td>\n",
       "      <td>0</td>\n",
       "      <td>20000.0</td>\n",
       "      <td>12</td>\n",
       "      <td>10</td>\n",
       "      <td>Dealer</td>\n",
       "      <td>1.0</td>\n",
       "      <td>Complaint</td>\n",
       "      <td>0</td>\n",
       "    </tr>\n",
       "    <tr>\n",
       "      <th>2</th>\n",
       "      <td>2</td>\n",
       "      <td>North</td>\n",
       "      <td>Haryana</td>\n",
       "      <td>Urban</td>\n",
       "      <td>Chandigarh</td>\n",
       "      <td>Personal</td>\n",
       "      <td>Household</td>\n",
       "      <td>AC</td>\n",
       "      <td>0</td>\n",
       "      <td>1</td>\n",
       "      <td>...</td>\n",
       "      <td>0</td>\n",
       "      <td>0</td>\n",
       "      <td>0</td>\n",
       "      <td>18000.0</td>\n",
       "      <td>14</td>\n",
       "      <td>10</td>\n",
       "      <td>Dealer</td>\n",
       "      <td>1.4</td>\n",
       "      <td>Claim</td>\n",
       "      <td>0</td>\n",
       "    </tr>\n",
       "    <tr>\n",
       "      <th>3</th>\n",
       "      <td>3</td>\n",
       "      <td>South</td>\n",
       "      <td>Tamil Nadu</td>\n",
       "      <td>Urban</td>\n",
       "      <td>Chennai</td>\n",
       "      <td>Business</td>\n",
       "      <td>Entertainment</td>\n",
       "      <td>TV</td>\n",
       "      <td>0</td>\n",
       "      <td>0</td>\n",
       "      <td>...</td>\n",
       "      <td>1</td>\n",
       "      <td>1</td>\n",
       "      <td>0</td>\n",
       "      <td>12000.0</td>\n",
       "      <td>16</td>\n",
       "      <td>20</td>\n",
       "      <td>Manufacturer</td>\n",
       "      <td>2.0</td>\n",
       "      <td>Complaint</td>\n",
       "      <td>0</td>\n",
       "    </tr>\n",
       "    <tr>\n",
       "      <th>4</th>\n",
       "      <td>4</td>\n",
       "      <td>North East</td>\n",
       "      <td>Jharkhand</td>\n",
       "      <td>Rural</td>\n",
       "      <td>Ranchi</td>\n",
       "      <td>Personal</td>\n",
       "      <td>Entertainment</td>\n",
       "      <td>TV</td>\n",
       "      <td>0</td>\n",
       "      <td>0</td>\n",
       "      <td>...</td>\n",
       "      <td>0</td>\n",
       "      <td>1</td>\n",
       "      <td>2</td>\n",
       "      <td>25000.0</td>\n",
       "      <td>15</td>\n",
       "      <td>6</td>\n",
       "      <td>Dealer</td>\n",
       "      <td>1.3</td>\n",
       "      <td>Claim</td>\n",
       "      <td>0</td>\n",
       "    </tr>\n",
       "  </tbody>\n",
       "</table>\n",
       "<p>5 rows × 21 columns</p>\n",
       "</div>"
      ],
      "text/plain": [
       "   Unnamed: 0      Region       State   Area        City Consumer_profile  \\\n",
       "0           0       South   Karnataka  Urban   Bangalore         Business   \n",
       "1           1       South   Karnataka  Rural   Bangalore         Business   \n",
       "2           2       North     Haryana  Urban  Chandigarh         Personal   \n",
       "3           3       South  Tamil Nadu  Urban     Chennai         Business   \n",
       "4           4  North East   Jharkhand  Rural      Ranchi         Personal   \n",
       "\n",
       "  Product_category Product_type  AC_1001_Issue  AC_1002_Issue  ...  \\\n",
       "0    Entertainment           TV              0              0  ...   \n",
       "1        Household           AC              1              1  ...   \n",
       "2        Household           AC              0              1  ...   \n",
       "3    Entertainment           TV              0              0  ...   \n",
       "4    Entertainment           TV              0              0  ...   \n",
       "\n",
       "   TV_2001_Issue  TV_2002_Issue  TV_2003_Issue  Claim_Value  Service_Centre  \\\n",
       "0              1              2              0      15000.0              10   \n",
       "1              0              0              0      20000.0              12   \n",
       "2              0              0              0      18000.0              14   \n",
       "3              1              1              0      12000.0              16   \n",
       "4              0              1              2      25000.0              15   \n",
       "\n",
       "   Product_Age  Purchased_from Call_details    Purpose Fraud  \n",
       "0           60    Manufacturer          0.5  Complaint     1  \n",
       "1           10          Dealer          1.0  Complaint     0  \n",
       "2           10          Dealer          1.4      Claim     0  \n",
       "3           20    Manufacturer          2.0  Complaint     0  \n",
       "4            6          Dealer          1.3      Claim     0  \n",
       "\n",
       "[5 rows x 21 columns]"
      ]
     },
     "execution_count": 2,
     "metadata": {},
     "output_type": "execute_result"
    }
   ],
   "source": [
    "warranty_df = pd.read_csv('Warranty Claim.csv')\n",
    "w_df = warranty_df.copy()\n",
    "w_df.head()"
   ]
  },
  {
   "cell_type": "code",
   "execution_count": 3,
   "id": "05e24c31",
   "metadata": {
    "ExecuteTime": {
     "end_time": "2021-09-27T13:07:52.819392Z",
     "start_time": "2021-09-27T13:07:52.718761Z"
    }
   },
   "outputs": [
    {
     "data": {
      "text/html": [
       "<div>\n",
       "<style scoped>\n",
       "    .dataframe tbody tr th:only-of-type {\n",
       "        vertical-align: middle;\n",
       "    }\n",
       "\n",
       "    .dataframe tbody tr th {\n",
       "        vertical-align: top;\n",
       "    }\n",
       "\n",
       "    .dataframe thead th {\n",
       "        text-align: right;\n",
       "    }\n",
       "</style>\n",
       "<table border=\"1\" class=\"dataframe\">\n",
       "  <thead>\n",
       "    <tr style=\"text-align: right;\">\n",
       "      <th></th>\n",
       "      <th>count</th>\n",
       "      <th>mean</th>\n",
       "      <th>std</th>\n",
       "      <th>min</th>\n",
       "      <th>25%</th>\n",
       "      <th>50%</th>\n",
       "      <th>75%</th>\n",
       "      <th>max</th>\n",
       "    </tr>\n",
       "  </thead>\n",
       "  <tbody>\n",
       "    <tr>\n",
       "      <th>AC_1001_Issue</th>\n",
       "      <td>358.0</td>\n",
       "      <td>0.332402</td>\n",
       "      <td>0.629446</td>\n",
       "      <td>0.0</td>\n",
       "      <td>0.0</td>\n",
       "      <td>0.0</td>\n",
       "      <td>0.00</td>\n",
       "      <td>2.0</td>\n",
       "    </tr>\n",
       "    <tr>\n",
       "      <th>AC_1002_Issue</th>\n",
       "      <td>358.0</td>\n",
       "      <td>0.329609</td>\n",
       "      <td>0.615182</td>\n",
       "      <td>0.0</td>\n",
       "      <td>0.0</td>\n",
       "      <td>0.0</td>\n",
       "      <td>0.75</td>\n",
       "      <td>2.0</td>\n",
       "    </tr>\n",
       "    <tr>\n",
       "      <th>AC_1003_Issue</th>\n",
       "      <td>358.0</td>\n",
       "      <td>0.203911</td>\n",
       "      <td>0.529559</td>\n",
       "      <td>0.0</td>\n",
       "      <td>0.0</td>\n",
       "      <td>0.0</td>\n",
       "      <td>0.00</td>\n",
       "      <td>2.0</td>\n",
       "    </tr>\n",
       "    <tr>\n",
       "      <th>TV_2001_Issue</th>\n",
       "      <td>358.0</td>\n",
       "      <td>0.377095</td>\n",
       "      <td>0.621943</td>\n",
       "      <td>0.0</td>\n",
       "      <td>0.0</td>\n",
       "      <td>0.0</td>\n",
       "      <td>1.00</td>\n",
       "      <td>2.0</td>\n",
       "    </tr>\n",
       "    <tr>\n",
       "      <th>TV_2002_Issue</th>\n",
       "      <td>358.0</td>\n",
       "      <td>0.452514</td>\n",
       "      <td>0.670910</td>\n",
       "      <td>0.0</td>\n",
       "      <td>0.0</td>\n",
       "      <td>0.0</td>\n",
       "      <td>1.00</td>\n",
       "      <td>2.0</td>\n",
       "    </tr>\n",
       "    <tr>\n",
       "      <th>TV_2003_Issue</th>\n",
       "      <td>358.0</td>\n",
       "      <td>0.268156</td>\n",
       "      <td>0.508353</td>\n",
       "      <td>0.0</td>\n",
       "      <td>0.0</td>\n",
       "      <td>0.0</td>\n",
       "      <td>0.00</td>\n",
       "      <td>2.0</td>\n",
       "    </tr>\n",
       "    <tr>\n",
       "      <th>Claim_Value</th>\n",
       "      <td>358.0</td>\n",
       "      <td>11994.534916</td>\n",
       "      <td>12063.213579</td>\n",
       "      <td>0.0</td>\n",
       "      <td>4006.0</td>\n",
       "      <td>7194.0</td>\n",
       "      <td>15000.00</td>\n",
       "      <td>50000.0</td>\n",
       "    </tr>\n",
       "    <tr>\n",
       "      <th>Service_Centre</th>\n",
       "      <td>358.0</td>\n",
       "      <td>12.812849</td>\n",
       "      <td>1.766844</td>\n",
       "      <td>10.0</td>\n",
       "      <td>12.0</td>\n",
       "      <td>13.0</td>\n",
       "      <td>15.00</td>\n",
       "      <td>16.0</td>\n",
       "    </tr>\n",
       "    <tr>\n",
       "      <th>Product_Age</th>\n",
       "      <td>358.0</td>\n",
       "      <td>201.843575</td>\n",
       "      <td>259.731564</td>\n",
       "      <td>3.0</td>\n",
       "      <td>14.0</td>\n",
       "      <td>60.0</td>\n",
       "      <td>303.75</td>\n",
       "      <td>991.0</td>\n",
       "    </tr>\n",
       "    <tr>\n",
       "      <th>Call_details</th>\n",
       "      <td>358.0</td>\n",
       "      <td>11.931844</td>\n",
       "      <td>11.559474</td>\n",
       "      <td>0.5</td>\n",
       "      <td>1.6</td>\n",
       "      <td>6.5</td>\n",
       "      <td>23.00</td>\n",
       "      <td>30.0</td>\n",
       "    </tr>\n",
       "    <tr>\n",
       "      <th>Fraud</th>\n",
       "      <td>358.0</td>\n",
       "      <td>0.097765</td>\n",
       "      <td>0.297413</td>\n",
       "      <td>0.0</td>\n",
       "      <td>0.0</td>\n",
       "      <td>0.0</td>\n",
       "      <td>0.00</td>\n",
       "      <td>1.0</td>\n",
       "    </tr>\n",
       "  </tbody>\n",
       "</table>\n",
       "</div>"
      ],
      "text/plain": [
       "                count          mean           std   min     25%     50%  \\\n",
       "AC_1001_Issue   358.0      0.332402      0.629446   0.0     0.0     0.0   \n",
       "AC_1002_Issue   358.0      0.329609      0.615182   0.0     0.0     0.0   \n",
       "AC_1003_Issue   358.0      0.203911      0.529559   0.0     0.0     0.0   \n",
       "TV_2001_Issue   358.0      0.377095      0.621943   0.0     0.0     0.0   \n",
       "TV_2002_Issue   358.0      0.452514      0.670910   0.0     0.0     0.0   \n",
       "TV_2003_Issue   358.0      0.268156      0.508353   0.0     0.0     0.0   \n",
       "Claim_Value     358.0  11994.534916  12063.213579   0.0  4006.0  7194.0   \n",
       "Service_Centre  358.0     12.812849      1.766844  10.0    12.0    13.0   \n",
       "Product_Age     358.0    201.843575    259.731564   3.0    14.0    60.0   \n",
       "Call_details    358.0     11.931844     11.559474   0.5     1.6     6.5   \n",
       "Fraud           358.0      0.097765      0.297413   0.0     0.0     0.0   \n",
       "\n",
       "                     75%      max  \n",
       "AC_1001_Issue       0.00      2.0  \n",
       "AC_1002_Issue       0.75      2.0  \n",
       "AC_1003_Issue       0.00      2.0  \n",
       "TV_2001_Issue       1.00      2.0  \n",
       "TV_2002_Issue       1.00      2.0  \n",
       "TV_2003_Issue       0.00      2.0  \n",
       "Claim_Value     15000.00  50000.0  \n",
       "Service_Centre     15.00     16.0  \n",
       "Product_Age       303.75    991.0  \n",
       "Call_details       23.00     30.0  \n",
       "Fraud               0.00      1.0  "
      ]
     },
     "execution_count": 3,
     "metadata": {},
     "output_type": "execute_result"
    }
   ],
   "source": [
    "w_df = w_df.iloc[:, 1:]\n",
    "w_df.describe().T"
   ]
  },
  {
   "cell_type": "code",
   "execution_count": 4,
   "id": "54f899c8",
   "metadata": {
    "ExecuteTime": {
     "end_time": "2021-09-27T13:07:52.840427Z",
     "start_time": "2021-09-27T13:07:52.824795Z"
    },
    "scrolled": true
   },
   "outputs": [
    {
     "data": {
      "text/plain": [
       "Region              0\n",
       "State               0\n",
       "Area                0\n",
       "City                0\n",
       "Consumer_profile    0\n",
       "Product_category    0\n",
       "Product_type        0\n",
       "AC_1001_Issue       0\n",
       "AC_1002_Issue       0\n",
       "AC_1003_Issue       0\n",
       "TV_2001_Issue       0\n",
       "TV_2002_Issue       0\n",
       "TV_2003_Issue       0\n",
       "Claim_Value         0\n",
       "Service_Centre      0\n",
       "Product_Age         0\n",
       "Purchased_from      0\n",
       "Call_details        0\n",
       "Purpose             0\n",
       "Fraud               0\n",
       "dtype: int64"
      ]
     },
     "execution_count": 4,
     "metadata": {},
     "output_type": "execute_result"
    }
   ],
   "source": [
    "w_df.isnull().sum()"
   ]
  },
  {
   "cell_type": "code",
   "execution_count": 5,
   "id": "9bc73540",
   "metadata": {
    "ExecuteTime": {
     "end_time": "2021-09-27T13:07:52.889231Z",
     "start_time": "2021-09-27T13:07:52.843789Z"
    }
   },
   "outputs": [
    {
     "data": {
      "text/plain": [
       "0    323\n",
       "1     35\n",
       "Name: Fraud, dtype: int64"
      ]
     },
     "execution_count": 5,
     "metadata": {},
     "output_type": "execute_result"
    }
   ],
   "source": [
    "w_df['Fraud'].value_counts()"
   ]
  },
  {
   "cell_type": "markdown",
   "id": "dd673f98",
   "metadata": {},
   "source": [
    "### Out of total data 323 cases are genuine while 35 are fraud."
   ]
  },
  {
   "cell_type": "code",
   "execution_count": 6,
   "id": "a8266b51",
   "metadata": {
    "ExecuteTime": {
     "end_time": "2021-09-27T13:07:53.385167Z",
     "start_time": "2021-09-27T13:07:52.893197Z"
    }
   },
   "outputs": [
    {
     "data": {
      "text/plain": [
       "Text(0, 0.5, 'fraud Cases')"
      ]
     },
     "execution_count": 6,
     "metadata": {},
     "output_type": "execute_result"
    },
    {
     "data": {
      "image/png": "[encoded data removed]",
      "text/plain": [
       "<Figure size 432x288 with 1 Axes>"
      ]
     },
     "metadata": {
      "needs_background": "light"
     },
     "output_type": "display_data"
    }
   ],
   "source": [
    "region_table = pd.crosstab(w_df.Region,w_df.Fraud)\n",
    "region_table.div(region_table.sum(1).astype(float), axis=0).plot(kind='bar', stacked=True)\n",
    "plt.title('Fraud Cases Vs Region')\n",
    "plt.xlabel('Region')\n",
    "plt.ylabel('fraud Cases')"
   ]
  },
  {
   "cell_type": "code",
   "execution_count": 7,
   "id": "6f3b1463",
   "metadata": {
    "ExecuteTime": {
     "end_time": "2021-09-27T13:07:53.968716Z",
     "start_time": "2021-09-27T13:07:53.388497Z"
    }
   },
   "outputs": [
    {
     "data": {
      "text/plain": [
       "Text(0, 0.5, 'fraud Cases')"
      ]
     },
     "execution_count": 7,
     "metadata": {},
     "output_type": "execute_result"
    },
    {
     "data": {
      "image/png": "[encoded data removed]",
      "text/plain": [
       "<Figure size 432x288 with 1 Axes>"
      ]
     },
     "metadata": {
      "needs_background": "light"
     },
     "output_type": "display_data"
    }
   ],
   "source": [
    "state_table = pd.crosstab(w_df.State,w_df.Fraud)\n",
    "state_table.div(state_table.sum(1).astype(float), axis=0).plot(kind='bar', stacked=True)\n",
    "plt.title('Fraud Cases Vs state')\n",
    "plt.xlabel('state')\n",
    "plt.ylabel('fraud Cases')"
   ]
  },
  {
   "cell_type": "code",
   "execution_count": 8,
   "id": "61c46331",
   "metadata": {
    "ExecuteTime": {
     "end_time": "2021-09-27T13:07:54.256057Z",
     "start_time": "2021-09-27T13:07:53.974050Z"
    }
   },
   "outputs": [
    {
     "data": {
      "text/plain": [
       "Text(0, 0.5, 'fraud Cases')"
      ]
     },
     "execution_count": 8,
     "metadata": {},
     "output_type": "execute_result"
    },
    {
     "data": {
      "image/png": "[encoded data removed]",
      "text/plain": [
       "<Figure size 432x288 with 1 Axes>"
      ]
     },
     "metadata": {
      "needs_background": "light"
     },
     "output_type": "display_data"
    }
   ],
   "source": [
    "area_table = pd.crosstab(w_df.Area,w_df.Fraud)\n",
    "area_table.div(area_table.sum(1).astype(float), axis=0).plot(kind='bar', stacked=True)\n",
    "plt.title('Fraud Cases Vs Area')\n",
    "plt.xlabel('area')\n",
    "plt.ylabel('fraud Cases')"
   ]
  },
  {
   "cell_type": "code",
   "execution_count": 9,
   "id": "44990e73",
   "metadata": {
    "ExecuteTime": {
     "end_time": "2021-09-27T13:07:54.914831Z",
     "start_time": "2021-09-27T13:07:54.263376Z"
    }
   },
   "outputs": [
    {
     "data": {
      "text/plain": [
       "Text(0, 0.5, 'fraud Cases')"
      ]
     },
     "execution_count": 9,
     "metadata": {},
     "output_type": "execute_result"
    },
    {
     "data": {
      "image/png": "[encoded data removed]",
      "text/plain": [
       "<Figure size 432x288 with 1 Axes>"
      ]
     },
     "metadata": {
      "needs_background": "light"
     },
     "output_type": "display_data"
    }
   ],
   "source": [
    "city_table = pd.crosstab(w_df.City,w_df.Fraud)\n",
    "city_table.div(city_table.sum(1).astype(float), axis=0).plot(kind='bar', stacked=True)\n",
    "plt.title('Fraud Cases Vs City')\n",
    "plt.xlabel('City')\n",
    "plt.ylabel('fraud Cases')"
   ]
  },
  {
   "cell_type": "code",
   "execution_count": 10,
   "id": "da95ad1a",
   "metadata": {
    "ExecuteTime": {
     "end_time": "2021-09-27T13:07:55.205493Z",
     "start_time": "2021-09-27T13:07:54.918552Z"
    }
   },
   "outputs": [
    {
     "data": {
      "text/plain": [
       "Text(0, 0.5, 'fraud Cases')"
      ]
     },
     "execution_count": 10,
     "metadata": {},
     "output_type": "execute_result"
    },
    {
     "data": {
      "image/png": "[encoded data removed]",
      "text/plain": [
       "<Figure size 432x288 with 1 Axes>"
      ]
     },
     "metadata": {
      "needs_background": "light"
     },
     "output_type": "display_data"
    }
   ],
   "source": [
    "profile_table = pd.crosstab(w_df.Consumer_profile,w_df.Fraud)\n",
    "profile_table.div(profile_table.sum(1).astype(float), axis=0).plot(kind='bar', stacked=True)\n",
    "plt.title('Fraud Cases Vs Consumer Profile')\n",
    "plt.xlabel('Consumer Profile')\n",
    "plt.ylabel('fraud Cases')"
   ]
  },
  {
   "cell_type": "code",
   "execution_count": 11,
   "id": "7d5a6a21",
   "metadata": {
    "ExecuteTime": {
     "end_time": "2021-09-27T13:07:55.527534Z",
     "start_time": "2021-09-27T13:07:55.208708Z"
    }
   },
   "outputs": [
    {
     "data": {
      "text/plain": [
       "Text(0, 0.5, 'fraud Cases')"
      ]
     },
     "execution_count": 11,
     "metadata": {},
     "output_type": "execute_result"
    },
    {
     "data": {
      "image/png": "[encoded data removed]",
      "text/plain": [
       "<Figure size 432x288 with 1 Axes>"
      ]
     },
     "metadata": {
      "needs_background": "light"
     },
     "output_type": "display_data"
    }
   ],
   "source": [
    "category_table = pd.crosstab(w_df.Product_category,w_df.Fraud) \n",
    "category_table.div(category_table.sum(1).astype(float), axis=0).plot(kind='bar', stacked=True)\n",
    "plt.title('Fraud Cases Vs Product Category')\n",
    "plt.xlabel('Product Category')\n",
    "plt.ylabel('fraud Cases')"
   ]
  },
  {
   "cell_type": "code",
   "execution_count": 12,
   "id": "eb609cf0",
   "metadata": {
    "ExecuteTime": {
     "end_time": "2021-09-27T13:07:55.890317Z",
     "start_time": "2021-09-27T13:07:55.531110Z"
    }
   },
   "outputs": [
    {
     "data": {
      "text/plain": [
       "Text(0, 0.5, 'fraud Cases')"
      ]
     },
     "execution_count": 12,
     "metadata": {},
     "output_type": "execute_result"
    },
    {
     "data": {
      "image/png": "[encoded data removed]",
      "text/plain": [
       "<Figure size 432x288 with 1 Axes>"
      ]
     },
     "metadata": {
      "needs_background": "light"
     },
     "output_type": "display_data"
    }
   ],
   "source": [
    "type_table = pd.crosstab(w_df.Product_type,w_df.Fraud)\n",
    "type_table.div(type_table.sum(1).astype(float), axis=0).plot(kind='bar', stacked=True)\n",
    "plt.title('Fraud Cases Vs Product Type')\n",
    "plt.xlabel('Product Type')\n",
    "plt.ylabel('fraud Cases')"
   ]
  },
  {
   "cell_type": "code",
   "execution_count": 13,
   "id": "85db3f5c",
   "metadata": {
    "ExecuteTime": {
     "end_time": "2021-09-27T13:07:56.189302Z",
     "start_time": "2021-09-27T13:07:55.893966Z"
    }
   },
   "outputs": [
    {
     "data": {
      "text/plain": [
       "Text(0, 0.5, 'fraud Cases')"
      ]
     },
     "execution_count": 13,
     "metadata": {},
     "output_type": "execute_result"
    },
    {
     "data": {
      "image/png": "[encoded data removed]",
      "text/plain": [
       "<Figure size 432x288 with 1 Axes>"
      ]
     },
     "metadata": {
      "needs_background": "light"
     },
     "output_type": "display_data"
    }
   ],
   "source": [
    "AC1001_table = pd.crosstab(w_df.AC_1001_Issue,w_df.Fraud)\n",
    "AC1001_table.div(AC1001_table.sum(1).astype(float), axis=0).plot(kind='bar', stacked=True)\n",
    "plt.title('Fraud Cases Vs AC_1001_Issue')\n",
    "plt.xlabel('AC_1001_Issue')\n",
    "plt.ylabel('fraud Cases')"
   ]
  },
  {
   "cell_type": "code",
   "execution_count": 14,
   "id": "2fc7fc81",
   "metadata": {
    "ExecuteTime": {
     "end_time": "2021-09-27T13:07:56.481661Z",
     "start_time": "2021-09-27T13:07:56.193288Z"
    }
   },
   "outputs": [
    {
     "data": {
      "text/plain": [
       "Text(0, 0.5, 'fraud Cases')"
      ]
     },
     "execution_count": 14,
     "metadata": {},
     "output_type": "execute_result"
    },
    {
     "data": {
      "image/png": "[encoded data removed]",
      "text/plain": [
       "<Figure size 432x288 with 1 Axes>"
      ]
     },
     "metadata": {
      "needs_background": "light"
     },
     "output_type": "display_data"
    }
   ],
   "source": [
    "AC1002_table = pd.crosstab(w_df.AC_1002_Issue,w_df.Fraud)\n",
    "AC1002_table.div(AC1002_table.sum(1).astype(float), axis=0).plot(kind='bar', stacked=True)\n",
    "plt.title('Fraud Cases Vs AC_1002_Issue')\n",
    "plt.xlabel('AC_1002_Issue')\n",
    "plt.ylabel('fraud Cases')"
   ]
  },
  {
   "cell_type": "code",
   "execution_count": 15,
   "id": "7a5c2df5",
   "metadata": {
    "ExecuteTime": {
     "end_time": "2021-09-27T13:07:56.782226Z",
     "start_time": "2021-09-27T13:07:56.483704Z"
    }
   },
   "outputs": [
    {
     "data": {
      "text/plain": [
       "Text(0, 0.5, 'fraud Cases')"
      ]
     },
     "execution_count": 15,
     "metadata": {},
     "output_type": "execute_result"
    },
    {
     "data": {
      "image/png": "[encoded data removed]",
      "text/plain": [
       "<Figure size 432x288 with 1 Axes>"
      ]
     },
     "metadata": {
      "needs_background": "light"
     },
     "output_type": "display_data"
    }
   ],
   "source": [
    "AC1003_table = pd.crosstab(w_df.AC_1003_Issue,w_df.Fraud)\n",
    "AC1003_table.div(AC1003_table.sum(1).astype(float), axis=0).plot(kind='bar', stacked=True)\n",
    "plt.title('Fraud Cases Vs AC_1001_Issue')\n",
    "plt.xlabel('AC_1001_Issue')\n",
    "plt.ylabel('fraud Cases')"
   ]
  },
  {
   "cell_type": "code",
   "execution_count": 16,
   "id": "43b8b67d",
   "metadata": {
    "ExecuteTime": {
     "end_time": "2021-09-27T13:07:57.082492Z",
     "start_time": "2021-09-27T13:07:56.785686Z"
    }
   },
   "outputs": [
    {
     "data": {
      "text/plain": [
       "Text(0, 0.5, 'fraud Cases')"
      ]
     },
     "execution_count": 16,
     "metadata": {},
     "output_type": "execute_result"
    },
    {
     "data": {
      "image/png": "[encoded data removed]",
      "text/plain": [
       "<Figure size 432x288 with 1 Axes>"
      ]
     },
     "metadata": {
      "needs_background": "light"
     },
     "output_type": "display_data"
    }
   ],
   "source": [
    "TV2001_table = pd.crosstab(w_df.TV_2001_Issue,w_df.Fraud)\n",
    "TV2001_table.div(TV2001_table.sum(1).astype(float), axis=0).plot(kind='bar', stacked=True)\n",
    "plt.title('Fraud Cases Vs TV_2001_Issue')\n",
    "plt.xlabel('TV_2001_Issue')\n",
    "plt.ylabel('fraud Cases')"
   ]
  },
  {
   "cell_type": "code",
   "execution_count": 17,
   "id": "34d4fd4d",
   "metadata": {
    "ExecuteTime": {
     "end_time": "2021-09-27T13:07:57.386789Z",
     "start_time": "2021-09-27T13:07:57.084562Z"
    }
   },
   "outputs": [
    {
     "data": {
      "text/plain": [
       "Text(0, 0.5, 'fraud Cases')"
      ]
     },
     "execution_count": 17,
     "metadata": {},
     "output_type": "execute_result"
    },
    {
     "data": {
      "image/png": "[encoded data removed]",
      "text/plain": [
       "<Figure size 432x288 with 1 Axes>"
      ]
     },
     "metadata": {
      "needs_background": "light"
     },
     "output_type": "display_data"
    }
   ],
   "source": [
    "TV2002_table = pd.crosstab(w_df.TV_2002_Issue,w_df.Fraud)\n",
    "TV2002_table.div(TV2002_table.sum(1).astype(float), axis=0).plot(kind='bar', stacked=True)\n",
    "plt.title('Fraud Cases Vs TV_2002_Issue')\n",
    "plt.xlabel('TV_2002_Issue')\n",
    "plt.ylabel('fraud Cases')"
   ]
  },
  {
   "cell_type": "code",
   "execution_count": 18,
   "id": "b2820852",
   "metadata": {
    "ExecuteTime": {
     "end_time": "2021-09-27T13:07:57.690988Z",
     "start_time": "2021-09-27T13:07:57.391770Z"
    }
   },
   "outputs": [
    {
     "data": {
      "text/plain": [
       "Text(0, 0.5, 'fraud Cases')"
      ]
     },
     "execution_count": 18,
     "metadata": {},
     "output_type": "execute_result"
    },
    {
     "data": {
      "image/png": "[encoded data removed]",
      "text/plain": [
       "<Figure size 432x288 with 1 Axes>"
      ]
     },
     "metadata": {
      "needs_background": "light"
     },
     "output_type": "display_data"
    }
   ],
   "source": [
    "TV2003_table = pd.crosstab(w_df.TV_2003_Issue,w_df.Fraud)\n",
    "TV2003_table.div(TV2003_table.sum(1).astype(float), axis=0).plot(kind='bar', stacked=True)\n",
    "plt.title('Fraud Cases Vs TV_2003_Issue')\n",
    "plt.xlabel('TV_2003_Issue')\n",
    "plt.ylabel('fraud Cases')"
   ]
  },
  {
   "cell_type": "code",
   "execution_count": 19,
   "id": "d55999b5",
   "metadata": {
    "ExecuteTime": {
     "end_time": "2021-09-27T13:07:58.055343Z",
     "start_time": "2021-09-27T13:07:57.694363Z"
    }
   },
   "outputs": [
    {
     "data": {
      "text/plain": [
       "Text(0, 0.5, 'fraud Cases')"
      ]
     },
     "execution_count": 19,
     "metadata": {},
     "output_type": "execute_result"
    },
    {
     "data": {
      "image/png": "[encoded data removed]",
      "text/plain": [
       "<Figure size 432x288 with 1 Axes>"
      ]
     },
     "metadata": {
      "needs_background": "light"
     },
     "output_type": "display_data"
    }
   ],
   "source": [
    "service_table = pd.crosstab(w_df.Service_Centre,w_df.Fraud)\n",
    "service_table.div(service_table.sum(1).astype(float), axis=0).plot(kind='bar', stacked=True)\n",
    "plt.title('Fraud Cases Vs Service Centre Code')\n",
    "plt.xlabel('Serice Centre Code')\n",
    "plt.ylabel('fraud Cases')"
   ]
  },
  {
   "cell_type": "code",
   "execution_count": 20,
   "id": "97d05295",
   "metadata": {
    "ExecuteTime": {
     "end_time": "2021-09-27T13:07:58.347556Z",
     "start_time": "2021-09-27T13:07:58.060297Z"
    }
   },
   "outputs": [
    {
     "data": {
      "text/plain": [
       "Text(0, 0.5, 'fraud Cases')"
      ]
     },
     "execution_count": 20,
     "metadata": {},
     "output_type": "execute_result"
    },
    {
     "data": {
      "image/png": "[encoded data removed]",
      "text/plain": [
       "<Figure size 432x288 with 1 Axes>"
      ]
     },
     "metadata": {
      "needs_background": "light"
     },
     "output_type": "display_data"
    }
   ],
   "source": [
    "purchase_table = pd.crosstab(w_df.Purchased_from,w_df.Fraud)\n",
    "purchase_table.div(purchase_table.sum(1).astype(float), axis=0).plot(kind='bar', stacked=True)\n",
    "plt.title('Fraud Cases Vs Purchase')\n",
    "plt.xlabel('Purchase')\n",
    "plt.ylabel('fraud Cases')"
   ]
  },
  {
   "cell_type": "code",
   "execution_count": 21,
   "id": "95f8e0cd",
   "metadata": {
    "ExecuteTime": {
     "end_time": "2021-09-27T13:07:58.646556Z",
     "start_time": "2021-09-27T13:07:58.351727Z"
    }
   },
   "outputs": [
    {
     "data": {
      "text/plain": [
       "Text(0, 0.5, 'fraud Cases')"
      ]
     },
     "execution_count": 21,
     "metadata": {},
     "output_type": "execute_result"
    },
    {
     "data": {
      "image/png": "[encoded data removed]",
      "text/plain": [
       "<Figure size 432x288 with 1 Axes>"
      ]
     },
     "metadata": {
      "needs_background": "light"
     },
     "output_type": "display_data"
    }
   ],
   "source": [
    "purpose_table = pd.crosstab(w_df.Purpose,w_df.Fraud)\n",
    "purpose_table.div(purpose_table.sum(1).astype(float), axis=0).plot(kind='bar', stacked=True)\n",
    "plt.title('Fraud Cases Vs Purpose')\n",
    "plt.xlabel('Purpose')\n",
    "plt.ylabel('fraud Cases')"
   ]
  },
  {
   "cell_type": "code",
   "execution_count": 22,
   "id": "5f5bd154",
   "metadata": {
    "ExecuteTime": {
     "end_time": "2021-09-27T13:07:58.901066Z",
     "start_time": "2021-09-27T13:07:58.649570Z"
    },
    "scrolled": true
   },
   "outputs": [
    {
     "data": {
      "text/plain": [
       "Text(0, 0.5, 'Frequency')"
      ]
     },
     "execution_count": 22,
     "metadata": {},
     "output_type": "execute_result"
    },
    {
     "data": {
      "image/png": "[encoded data removed]",
      "text/plain": [
       "<Figure size 432x288 with 1 Axes>"
      ]
     },
     "metadata": {
      "needs_background": "light"
     },
     "output_type": "display_data"
    }
   ],
   "source": [
    "w_df.Claim_Value.hist()\n",
    "plt.title('Histogram of Claim Value')\n",
    "plt.xlabel('Claim Value')\n",
    "plt.ylabel('Frequency')"
   ]
  },
  {
   "cell_type": "code",
   "execution_count": 23,
   "id": "70b43826",
   "metadata": {
    "ExecuteTime": {
     "end_time": "2021-09-27T13:07:59.188745Z",
     "start_time": "2021-09-27T13:07:58.908705Z"
    }
   },
   "outputs": [
    {
     "data": {
      "text/plain": [
       "Text(0, 0.5, 'Frequency')"
      ]
     },
     "execution_count": 23,
     "metadata": {},
     "output_type": "execute_result"
    },
    {
     "data": {
      "image/png": "[encoded data removed]",
      "text/plain": [
       "<Figure size 432x288 with 1 Axes>"
      ]
     },
     "metadata": {
      "needs_background": "light"
     },
     "output_type": "display_data"
    }
   ],
   "source": [
    "w_df.Product_Age.hist()\n",
    "plt.title('Histogram of Product Age')\n",
    "plt.xlabel('Product Age')\n",
    "plt.ylabel('Frequency')"
   ]
  },
  {
   "cell_type": "code",
   "execution_count": 24,
   "id": "2084600d",
   "metadata": {
    "ExecuteTime": {
     "end_time": "2021-09-27T13:07:59.492461Z",
     "start_time": "2021-09-27T13:07:59.197574Z"
    }
   },
   "outputs": [
    {
     "data": {
      "text/plain": [
       "Text(0, 0.5, 'Frequency')"
      ]
     },
     "execution_count": 24,
     "metadata": {},
     "output_type": "execute_result"
    },
    {
     "data": {
      "image/png": "[encoded data removed]",
      "text/plain": [
       "<Figure size 432x288 with 1 Axes>"
      ]
     },
     "metadata": {
      "needs_background": "light"
     },
     "output_type": "display_data"
    }
   ],
   "source": [
    "w_df.Call_details.hist()\n",
    "plt.title('Histogram of Call Detials')\n",
    "plt.xlabel('Call Details')\n",
    "plt.ylabel('Frequency')"
   ]
  },
  {
   "cell_type": "code",
   "execution_count": 25,
   "id": "8e851d7e",
   "metadata": {
    "ExecuteTime": {
     "end_time": "2021-09-27T13:07:59.781069Z",
     "start_time": "2021-09-27T13:07:59.494572Z"
    }
   },
   "outputs": [
    {
     "data": {
      "text/plain": [
       "Text(0, 0.5, 'fraud Cases')"
      ]
     },
     "execution_count": 25,
     "metadata": {},
     "output_type": "execute_result"
    },
    {
     "data": {
      "image/png": "[encoded data removed]",
      "text/plain": [
       "<Figure size 432x288 with 1 Axes>"
      ]
     },
     "metadata": {
      "needs_background": "light"
     },
     "output_type": "display_data"
    }
   ],
   "source": [
    "category_table = pd.crosstab(w_df.Product_category,w_df.Fraud) \n",
    "category_table.div(category_table.sum(1).astype(float), axis=0).plot(kind='bar', stacked=True)\n",
    "plt.title('Fraud Cases Vs Product Category')\n",
    "plt.xlabel('Product Category')\n",
    "plt.ylabel('fraud Cases')"
   ]
  },
  {
   "cell_type": "markdown",
   "id": "2706f9d6",
   "metadata": {},
   "source": [
    "# 3. Preparing Train and Test Data Sets"
   ]
  },
  {
   "cell_type": "code",
   "execution_count": 26,
   "id": "4437b16e",
   "metadata": {
    "ExecuteTime": {
     "end_time": "2021-09-27T13:07:59.794601Z",
     "start_time": "2021-09-27T13:07:59.784793Z"
    }
   },
   "outputs": [],
   "source": [
    "w_df1 = w_df.copy()"
   ]
  },
  {
   "cell_type": "code",
   "execution_count": 27,
   "id": "1ea72344",
   "metadata": {
    "ExecuteTime": {
     "end_time": "2021-09-27T13:07:59.869486Z",
     "start_time": "2021-09-27T13:07:59.796652Z"
    }
   },
   "outputs": [],
   "source": [
    "w_df1['Region'] = w_df1['Region'].map({'South': 0, 'North': 1, 'East': 2, 'West': 3, 'North East': 4, \n",
    "                                       'North West': 5, 'South East': 6, 'South West': 7})"
   ]
  },
  {
   "cell_type": "code",
   "execution_count": 28,
   "id": "dc29479d",
   "metadata": {
    "ExecuteTime": {
     "end_time": "2021-09-27T13:07:59.912929Z",
     "start_time": "2021-09-27T13:07:59.876440Z"
    }
   },
   "outputs": [],
   "source": [
    "w_df1['State'] = w_df1['State'].map({'Karnataka': 0, 'Haryana': 1, 'Tamil Nadu': 2, 'Jharkhand': 3, 'Kerala': 4,\n",
    "       'Andhra Pradesh': 5, 'Bihar': 6, 'Gujarat': 7, 'Delhi': 8, 'Maharashtra': 9,\n",
    "       'West Bengal':10, 'Goa': 11, 'Jammu and Kashmir': 12, 'Assam': 13, 'Rajasthan': 14,\n",
    "       'Madhya Pradesh': 15, 'Uttar Pradesh': 16, 'Tripura': 17, 'Himachal Pradesh': 18,\n",
    "       'Orissa':19})"
   ]
  },
  {
   "cell_type": "code",
   "execution_count": 29,
   "id": "c3f248e7",
   "metadata": {
    "ExecuteTime": {
     "end_time": "2021-09-27T13:07:59.955812Z",
     "start_time": "2021-09-27T13:07:59.917656Z"
    }
   },
   "outputs": [],
   "source": [
    "w_df1['Area'] = w_df1['Area'].map({'Urban': 0, 'Rural': 1})"
   ]
  },
  {
   "cell_type": "code",
   "execution_count": 30,
   "id": "ad2b3390",
   "metadata": {
    "ExecuteTime": {
     "end_time": "2021-09-27T13:08:00.055794Z",
     "start_time": "2021-09-27T13:07:59.960201Z"
    }
   },
   "outputs": [],
   "source": [
    "w_df1['City'] = w_df1['City'].map({'Bangalore': 0, 'Chandigarh': 1, 'Chennai': 2, 'Ranchi': 3, 'Kochi': 4,\n",
    "       'Hyderabad': 5, 'Patna': 6, 'Purnea': 7, 'Vadodara': 8, 'New Delhi': 9, 'Mumbai': 10,\n",
    "       'Ahmedabad': 11, 'Pune': 12, 'Kolkata': 13, 'Vizag': 14, 'Panaji': 15, 'Srinagar': 16,\n",
    "       'Guwhati': 17, 'Jaipur': 18, 'Bhopal': 19, 'Meerut': 20, 'Delhi': 21, 'Agartala': 22,\n",
    "       'Shimla': 23, 'Bhubaneswar': 24, 'Vijayawada': 25, 'Lucknow': 26})"
   ]
  },
  {
   "cell_type": "code",
   "execution_count": 31,
   "id": "d364a025",
   "metadata": {
    "ExecuteTime": {
     "end_time": "2021-09-27T13:08:00.105831Z",
     "start_time": "2021-09-27T13:08:00.061375Z"
    }
   },
   "outputs": [],
   "source": [
    "w_df1['Consumer_profile'] = w_df1['Consumer_profile'].map({'Business': 0, 'Personal': 1})"
   ]
  },
  {
   "cell_type": "code",
   "execution_count": 32,
   "id": "9e2061fa",
   "metadata": {
    "ExecuteTime": {
     "end_time": "2021-09-27T13:08:00.155755Z",
     "start_time": "2021-09-27T13:08:00.110288Z"
    }
   },
   "outputs": [],
   "source": [
    "w_df1['Product_category'] = w_df1['Product_category'].map({'Entertainment': 0, 'Household': 1})"
   ]
  },
  {
   "cell_type": "code",
   "execution_count": 33,
   "id": "9e6c2f67",
   "metadata": {
    "ExecuteTime": {
     "end_time": "2021-09-27T13:08:00.197045Z",
     "start_time": "2021-09-27T13:08:00.160881Z"
    }
   },
   "outputs": [],
   "source": [
    "w_df1['Product_type'] = w_df1['Product_type'].map({'TV': 0, 'AC': 1})"
   ]
  },
  {
   "cell_type": "code",
   "execution_count": 34,
   "id": "9bf82457",
   "metadata": {
    "ExecuteTime": {
     "end_time": "2021-09-27T13:08:00.240931Z",
     "start_time": "2021-09-27T13:08:00.200856Z"
    }
   },
   "outputs": [],
   "source": [
    "w_df1['Service_Centre'] = w_df1['Service_Centre'].map({10: 0, 12: 1, 14: 2, 16: 3, 15: 4, 13: 5, 11: 6})"
   ]
  },
  {
   "cell_type": "code",
   "execution_count": 35,
   "id": "bebf7130",
   "metadata": {
    "ExecuteTime": {
     "end_time": "2021-09-27T13:08:00.284107Z",
     "start_time": "2021-09-27T13:08:00.244346Z"
    }
   },
   "outputs": [],
   "source": [
    "w_df1['Purchased_from'] = w_df1['Purchased_from'].map({'Manufacturer': 0, 'Dealer': 1, 'Internet': 2})"
   ]
  },
  {
   "cell_type": "code",
   "execution_count": 36,
   "id": "62b9284b",
   "metadata": {
    "ExecuteTime": {
     "end_time": "2021-09-27T13:08:00.336867Z",
     "start_time": "2021-09-27T13:08:00.290295Z"
    }
   },
   "outputs": [],
   "source": [
    "w_df1['Purpose'] = w_df1['Purpose'].map({'Complaint': 0, 'Claim': 1, 'Other': 2})"
   ]
  },
  {
   "cell_type": "code",
   "execution_count": 37,
   "id": "5ee2e539",
   "metadata": {
    "ExecuteTime": {
     "end_time": "2021-09-27T13:08:00.378269Z",
     "start_time": "2021-09-27T13:08:00.342737Z"
    }
   },
   "outputs": [],
   "source": [
    "w_X = w_df1.loc[:, w_df1.columns != 'Fraud']\n",
    "w_y = w_df1.loc[:, w_df1.columns == 'Fraud']"
   ]
  },
  {
   "cell_type": "code",
   "execution_count": 38,
   "id": "db3690d5",
   "metadata": {
    "ExecuteTime": {
     "end_time": "2021-09-27T13:08:00.438905Z",
     "start_time": "2021-09-27T13:08:00.383706Z"
    }
   },
   "outputs": [],
   "source": [
    "ss = StandardScaler()\n",
    "w_X = ss.fit_transform(w_X)"
   ]
  },
  {
   "cell_type": "code",
   "execution_count": 39,
   "id": "23d16402",
   "metadata": {
    "ExecuteTime": {
     "end_time": "2021-09-27T13:08:00.488515Z",
     "start_time": "2021-09-27T13:08:00.442578Z"
    }
   },
   "outputs": [],
   "source": [
    "X_train, X_test, y_train, y_test = train_test_split(w_X, w_y, test_size=0.2, random_state=0)"
   ]
  },
  {
   "cell_type": "markdown",
   "id": "e0e32a29",
   "metadata": {},
   "source": [
    "# 4. Decision Tree Classifier Model"
   ]
  },
  {
   "cell_type": "code",
   "execution_count": 40,
   "id": "833f46c5",
   "metadata": {
    "ExecuteTime": {
     "end_time": "2021-09-27T13:08:00.521518Z",
     "start_time": "2021-09-27T13:08:00.491639Z"
    }
   },
   "outputs": [
    {
     "data": {
      "text/plain": [
       "DecisionTreeClassifier(criterion='entropy', random_state=0)"
      ]
     },
     "execution_count": 40,
     "metadata": {},
     "output_type": "execute_result"
    }
   ],
   "source": [
    "DTClassifier = DecisionTreeClassifier(criterion='entropy', random_state=0)\n",
    "DTClassifier.fit(X_train, y_train)"
   ]
  },
  {
   "cell_type": "code",
   "execution_count": 41,
   "id": "342ffb63",
   "metadata": {
    "ExecuteTime": {
     "end_time": "2021-09-27T13:08:00.556468Z",
     "start_time": "2021-09-27T13:08:00.523734Z"
    }
   },
   "outputs": [],
   "source": [
    "y_pred = DTClassifier.predict(X_test)"
   ]
  },
  {
   "cell_type": "code",
   "execution_count": 42,
   "id": "a93ab2dc",
   "metadata": {
    "ExecuteTime": {
     "end_time": "2021-09-27T13:08:00.707615Z",
     "start_time": "2021-09-27T13:08:00.560534Z"
    },
    "scrolled": true
   },
   "outputs": [
    {
     "name": "stdout",
     "output_type": "stream",
     "text": [
      "Accuracy of Decision Tree algorithm is: 0.8611111111111112\n"
     ]
    }
   ],
   "source": [
    "print('Accuracy of Decision Tree algorithm is:', metrics.accuracy_score(y_pred,y_test))"
   ]
  },
  {
   "cell_type": "markdown",
   "id": "8a7aa0f7",
   "metadata": {},
   "source": [
    "# 5. Naive Bayes Classifier Model"
   ]
  },
  {
   "cell_type": "code",
   "execution_count": 43,
   "id": "241e492d",
   "metadata": {
    "ExecuteTime": {
     "end_time": "2021-09-27T13:08:00.748148Z",
     "start_time": "2021-09-27T13:08:00.709997Z"
    }
   },
   "outputs": [
    {
     "name": "stderr",
     "output_type": "stream",
     "text": [
      "C:\\Users\\Aditya Jawlekar\\anaconda3\\lib\\site-packages\\sklearn\\utils\\validation.py:63: DataConversionWarning: A column-vector y was passed when a 1d array was expected. Please change the shape of y to (n_samples, ), for example using ravel().\n",
      "  return f(*args, **kwargs)\n"
     ]
    },
    {
     "data": {
      "text/plain": [
       "GaussianNB()"
      ]
     },
     "execution_count": 43,
     "metadata": {},
     "output_type": "execute_result"
    }
   ],
   "source": [
    "NBClassifier = GaussianNB()\n",
    "NBClassifier.fit(X_train, y_train)"
   ]
  },
  {
   "cell_type": "code",
   "execution_count": 44,
   "id": "93ad83e9",
   "metadata": {
    "ExecuteTime": {
     "end_time": "2021-09-27T13:08:00.780772Z",
     "start_time": "2021-09-27T13:08:00.750046Z"
    }
   },
   "outputs": [
    {
     "data": {
      "text/plain": [
       "array([0, 0, 0, 0, 0, 0, 0, 0, 0, 0, 0, 0, 0, 0, 0, 0, 0, 0, 0, 1, 0, 0,\n",
       "       0, 0, 0, 0, 0, 0, 0, 0, 0, 0, 0, 0, 0, 0, 0, 0, 0, 0, 1, 0, 0, 0,\n",
       "       0, 1, 0, 0, 0, 0, 0, 0, 0, 0, 0, 0, 0, 0, 0, 0, 1, 0, 0, 1, 0, 0,\n",
       "       0, 0, 1, 0, 0, 0], dtype=int64)"
      ]
     },
     "execution_count": 44,
     "metadata": {},
     "output_type": "execute_result"
    }
   ],
   "source": [
    "y_pred_NB = NBClassifier.predict(X_test)\n",
    "y_pred_NB"
   ]
  },
  {
   "cell_type": "code",
   "execution_count": 45,
   "id": "4e58e1af",
   "metadata": {
    "ExecuteTime": {
     "end_time": "2021-09-27T13:08:00.831085Z",
     "start_time": "2021-09-27T13:08:00.780772Z"
    }
   },
   "outputs": [
    {
     "name": "stdout",
     "output_type": "stream",
     "text": [
      "Accuracy of Naive Bayes algorithm is: 0.8888888888888888\n"
     ]
    }
   ],
   "source": [
    "print('Accuracy of Naive Bayes algorithm is:', metrics.accuracy_score(y_pred_NB,y_test))"
   ]
  }
 ],
 "metadata": {
  "kernelspec": {
   "display_name": "Python 3",
   "language": "python",
   "name": "python3"
  },
  "language_info": {
   "codemirror_mode": {
    "name": "ipython",
    "version": 3
   },
   "file_extension": ".py",
   "mimetype": "text/x-python",
   "name": "python",
   "nbconvert_exporter": "python",
   "pygments_lexer": "ipython3",
   "version": "3.8.8"
  },
  "varInspector": {
   "cols": {
    "lenName": 16,
    "lenType": 16,
    "lenVar": 40
   },
   "kernels_config": {
    "python": {
     "delete_cmd_postfix": "",
     "delete_cmd_prefix": "del ",
     "library": "var_list.py",
     "varRefreshCmd": "print(var_dic_list())"
    },
    "r": {
     "delete_cmd_postfix": ") ",
     "delete_cmd_prefix": "rm(",
     "library": "var_list.r",
     "varRefreshCmd": "cat(var_dic_list()) "
    }
   },
   "types_to_exclude": [
    "module",
    "function",
    "builtin_function_or_method",
    "instance",
    "_Feature"
   ],
   "window_display": false
  }
 },
 "nbformat": 4,
 "nbformat_minor": 5
}
